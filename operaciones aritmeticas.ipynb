{
  "cells": [
    {
      "cell_type": "markdown",
      "metadata": {
        "id": "view-in-github",
        "colab_type": "text"
      },
      "source": [
        "<a href=\"https://colab.research.google.com/github/karina307/ANALITICA-DE-DATOS-PARA-NEGOCIOS-DIGITALES/blob/main/operaciones%20aritmeticas.ipynb\" target=\"_parent\"><img src=\"https://colab.research.google.com/assets/colab-badge.svg\" alt=\"Open In Colab\"/></a>"
      ]
    },
    {
      "cell_type": "markdown",
      "metadata": {
        "id": "eD7ZHklWzTna"
      },
      "source": [
        " # Operaciones aritmeticas"
      ]
    },
    {
      "cell_type": "code",
      "execution_count": null,
      "metadata": {
        "colab": {
          "base_uri": "https://localhost:8080/"
        },
        "id": "jBl4vRjwyOjU",
        "outputId": "47607444-0ccd-4bb2-e44b-2112b7609eb4"
      },
      "outputs": [
        {
          "name": "stdout",
          "output_type": "stream",
          "text": [
            "Hola mundo\n"
          ]
        }
      ],
      "source": [
        "print(\"Hola mundo\")"
      ]
    },
    {
      "cell_type": "markdown",
      "metadata": {
        "id": "VznmiZTqzlE7"
      },
      "source": [
        "# Operaciones aritmeticaas"
      ]
    },
    {
      "cell_type": "markdown",
      "metadata": {
        "id": "IDXAxSZmzglA"
      },
      "source": []
    },
    {
      "cell_type": "markdown",
      "metadata": {
        "id": "cbkaNMwbzwld"
      },
      "source": [
        "## Suma"
      ]
    },
    {
      "cell_type": "code",
      "execution_count": null,
      "metadata": {
        "colab": {
          "base_uri": "https://localhost:8080/"
        },
        "id": "WRqcScJV0AHQ",
        "outputId": "be6e42ba-9e0d-46b8-c09d-e22f0f5adc83"
      },
      "outputs": [
        {
          "data": {
            "text/plain": [
              "9"
            ]
          },
          "execution_count": 3,
          "metadata": {},
          "output_type": "execute_result"
        }
      ],
      "source": [
        "4 + 5 #Suma de literales"
      ]
    },
    {
      "cell_type": "markdown",
      "metadata": {
        "id": "6xSqeVMY0ro_"
      },
      "source": [
        "## Resta"
      ]
    },
    {
      "cell_type": "code",
      "execution_count": null,
      "metadata": {
        "colab": {
          "base_uri": "https://localhost:8080/"
        },
        "id": "v8sj1q5j0wsG",
        "outputId": "9f5a3035-795f-49ae-be8a-804f31d689d2"
      },
      "outputs": [
        {
          "data": {
            "text/plain": [
              "8"
            ]
          },
          "execution_count": 5,
          "metadata": {},
          "output_type": "execute_result"
        }
      ],
      "source": [
        "10-2"
      ]
    },
    {
      "cell_type": "markdown",
      "metadata": {
        "id": "EIF3jls301-l"
      },
      "source": [
        "##Multiplicasion"
      ]
    },
    {
      "cell_type": "code",
      "execution_count": null,
      "metadata": {
        "colab": {
          "base_uri": "https://localhost:8080/"
        },
        "id": "7G2_nz-L04vz",
        "outputId": "38de84b2-e22a-4d51-b421-627b66b75be8"
      },
      "outputs": [
        {
          "data": {
            "text/plain": [
              "72"
            ]
          },
          "execution_count": 6,
          "metadata": {},
          "output_type": "execute_result"
        }
      ],
      "source": [
        "8*9"
      ]
    },
    {
      "cell_type": "markdown",
      "metadata": {
        "id": "XuYgkeYL07mw"
      },
      "source": [
        "## Potenciaa"
      ]
    },
    {
      "cell_type": "code",
      "execution_count": null,
      "metadata": {
        "colab": {
          "base_uri": "https://localhost:8080/"
        },
        "id": "sffLCb171Daa",
        "outputId": "42045da6-c1c0-4087-90e2-f5c912b3e2c7"
      },
      "outputs": [
        {
          "data": {
            "text/plain": [
              "8"
            ]
          },
          "execution_count": 8,
          "metadata": {},
          "output_type": "execute_result"
        }
      ],
      "source": [
        "2 ** 3"
      ]
    },
    {
      "cell_type": "markdown",
      "metadata": {
        "id": "j-Xx7fAC1N1p"
      },
      "source": [
        "## Division"
      ]
    },
    {
      "cell_type": "code",
      "execution_count": null,
      "metadata": {
        "colab": {
          "base_uri": "https://localhost:8080/"
        },
        "id": "T-7T19-41Qoq",
        "outputId": "8e442f15-4e0f-4796-b235-a73fb656af83"
      },
      "outputs": [
        {
          "data": {
            "text/plain": [
              "0.5"
            ]
          },
          "execution_count": 13,
          "metadata": {},
          "output_type": "execute_result"
        }
      ],
      "source": [
        "1/2 ##Divicion decimal"
      ]
    },
    {
      "cell_type": "markdown",
      "metadata": {
        "id": "CyBpTIqtz0YD"
      },
      "source": []
    },
    {
      "cell_type": "code",
      "execution_count": null,
      "metadata": {
        "colab": {
          "base_uri": "https://localhost:8080/"
        },
        "id": "TVyf7ZVC1ohq",
        "outputId": "d9d8bed9-729a-4bc4-ff63-765cd4ec9616"
      },
      "outputs": [
        {
          "data": {
            "text/plain": [
              "0"
            ]
          },
          "execution_count": 10,
          "metadata": {},
          "output_type": "execute_result"
        }
      ],
      "source": [
        "1//2 ##Divicion Entera"
      ]
    },
    {
      "cell_type": "code",
      "execution_count": null,
      "metadata": {
        "colab": {
          "base_uri": "https://localhost:8080/"
        },
        "id": "nR_a5PRL10aS",
        "outputId": "ae6ed50f-c0e7-4616-f812-3df02cf5812b"
      },
      "outputs": [
        {
          "data": {
            "text/plain": [
              "0"
            ]
          },
          "execution_count": 11,
          "metadata": {},
          "output_type": "execute_result"
        }
      ],
      "source": [
        "10%2 ##Modulo"
      ]
    },
    {
      "cell_type": "markdown",
      "metadata": {
        "id": "M1kTzuJ_2PHt"
      },
      "source": [
        "# Tipos de datos y variable"
      ]
    },
    {
      "cell_type": "code",
      "execution_count": null,
      "metadata": {
        "colab": {
          "base_uri": "https://localhost:8080/"
        },
        "id": "svCJvhm822ov",
        "outputId": "303ffaca-a2c1-469e-d82e-8f5f418211d5"
      },
      "outputs": [
        {
          "data": {
            "text/plain": [
              "int"
            ]
          },
          "execution_count": 16,
          "metadata": {},
          "output_type": "execute_result"
        }
      ],
      "source": [
        " # Variable entera\n",
        "numero1 = 10\n",
        "type(numero1)"
      ]
    },
    {
      "cell_type": "code",
      "execution_count": null,
      "metadata": {
        "id": "dyzcNM2k3JYu"
      },
      "outputs": [],
      "source": [
        "numero2 = 20\n",
        "resuktado = numero1 + numero2\n",
        "resultado"
      ]
    },
    {
      "cell_type": "code",
      "execution_count": null,
      "metadata": {
        "colab": {
          "background_save": true,
          "base_uri": "https://localhost:8080/"
        },
        "id": "DHWgbMhc3jfa",
        "outputId": "f75a5d5f-5879-4c80-8acc-3d6df907e121"
      },
      "outputs": [
        {
          "data": {
            "text/plain": [
              "float"
            ]
          },
          "execution_count": 17,
          "metadata": {},
          "output_type": "execute_result"
        }
      ],
      "source": [
        " #Flotantes\n",
        " numero1 = 45.6\n",
        " type(numero1)"
      ]
    },
    {
      "cell_type": "code",
      "execution_count": null,
      "metadata": {
        "colab": {
          "background_save": true,
          "base_uri": "https://localhost:8080/",
          "height": 141
        },
        "id": "-bQ62_OP32wZ",
        "outputId": "46930e9b-5e60-44d5-fb3f-74da95e59e1c"
      },
      "outputs": [
        {
          "name": "stdout",
          "output_type": "stream",
          "text": [
            "El resultado es: 65.6\n"
          ]
        }
      ],
      "source": [
        "print(\"El resultado es:\", resultado)"
      ]
    },
    {
      "cell_type": "code",
      "execution_count": null,
      "metadata": {
        "id": "3Pyi9N7A4R2d"
      },
      "outputs": [],
      "source": [
        "print(\"El resultado es:\" +str(resultado))"
      ]
    }
  ],
  "metadata": {
    "colab": {
      "provenance": [],
      "authorship_tag": "ABX9TyMluAoyhphOfVo26ceMjbqI",
      "include_colab_link": true
    },
    "kernelspec": {
      "display_name": "Python 3",
      "name": "python3"
    },
    "language_info": {
      "name": "python"
    }
  },
  "nbformat": 4,
  "nbformat_minor": 0
}