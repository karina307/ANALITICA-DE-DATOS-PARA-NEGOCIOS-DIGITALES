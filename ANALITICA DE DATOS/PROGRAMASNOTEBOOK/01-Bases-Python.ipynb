{
 "cells": [
  {
   "cell_type": "markdown",
   "metadata": {},
   "source": [
    "# Caracteres de escape u nueva linea en python\n"
   ]
  },
  {
   "cell_type": "code",
   "execution_count": 1,
   "metadata": {},
   "outputs": [
    {
     "name": "stdout",
     "output_type": "stream",
     "text": [
      "karina cruz francisco\n",
      "subio a su telaraña\n",
      "karina cruz francisco nsubio a su telaraña\n"
     ]
    }
   ],
   "source": [
    "print(\"karina cruz francisco\\nsubio a su telaraña\")\n",
    "print(\"karina cruz francisco nsubio a su telaraña\")"
   ]
  },
  {
   "cell_type": "code",
   "execution_count": 5,
   "metadata": {},
   "outputs": [
    {
     "name": "stdout",
     "output_type": "stream",
     "text": [
      "La witsi araña\\La arañota\n"
     ]
    }
   ],
   "source": [
    "print(\"La witsi araña\\\\La arañota\")\n"
   ]
  },
  {
   "cell_type": "code",
   "execution_count": 6,
   "metadata": {},
   "outputs": [
    {
     "name": "stdout",
     "output_type": "stream",
     "text": [
      "El resultado es;10\n"
     ]
    }
   ],
   "source": [
    "x=10\n",
    "print(\"El resultado es;\" +str (x))"
   ]
  },
  {
   "cell_type": "code",
   "execution_count": 7,
   "metadata": {},
   "outputs": [
    {
     "name": "stdout",
     "output_type": "stream",
     "text": [
      "El valor de x es: 22\n"
     ]
    }
   ],
   "source": [
    "x=22\n",
    "print(f'El valor de x es: {x}')  \n",
    "#Esto es para pueda dar el valor de x sin concatenacion poniendo un a f al principio y poniendo  el valor en corchetes "
   ]
  },
  {
   "cell_type": "code",
   "execution_count": 10,
   "metadata": {},
   "outputs": [
    {
     "name": "stdout",
     "output_type": "stream",
     "text": [
      "el valor es: 57.900000000000006\n"
     ]
    }
   ],
   "source": [
    "x= 45.6\n",
    "y=12.3\n",
    "\n",
    "print(f'el valor es: {x+y}')"
   ]
  },
  {
   "cell_type": "code",
   "execution_count": 11,
   "metadata": {},
   "outputs": [
    {
     "name": "stdout",
     "output_type": "stream",
     "text": [
      "EL valor es57.900000000000006\n"
     ]
    }
   ],
   "source": [
    "X=45.6\n",
    "y=12.3\n",
    "print('EL valor es' + str(x+y))"
   ]
  },
  {
   "cell_type": "code",
   "execution_count": 15,
   "metadata": {},
   "outputs": [
    {
     "name": "stdout",
     "output_type": "stream",
     "text": [
      "La suma es de 45.6+12.357.900000000000006\n",
      "57.9\n",
      "La suma de 45.6+12.3=57.900000000000006\n",
      "La suma de 45.6 + 12.3 = 57.9\n",
      "57.900000000000006\n"
     ]
    }
   ],
   "source": [
    "x=45.6\n",
    "y=12.3\n",
    "print('La suma es de ' + str(x) + '+' + str(y) + str(x+y))\n",
    "# Utiliza el string  literal y utilizando el round \n",
    "\n",
    "\n",
    "print(str(round(x+y,2)))\n",
    "print('La suma de ' + str (x) + '+' + str(y)+ '=' + str(x+y))\n",
    "print(f'La suma de {x} + {y} = {round (x+y,2)}')\n",
    "\n",
    "#mas facil\n",
    "suma= x+y \n",
    "print (suma)"
   ]
  },
  {
   "cell_type": "markdown",
   "metadata": {},
   "source": [
    "# Usando multiples argumentos"
   ]
  },
  {
   "cell_type": "code",
   "execution_count": 20,
   "metadata": {},
   "outputs": [
    {
     "name": "stdout",
     "output_type": "stream",
     "text": [
      "La arañame mordio el dedo \n",
      "La araña me mordio mis 20 dedos\n",
      "Ya tenemos hambre\n"
     ]
    }
   ],
   "source": [
    "print('La araña' + 'me mordio el dedo ')\n",
    "x= 20\n",
    "print('La araña', 'me mordio', 'mis', x, 'dedos') \n",
    "print('Ya tenemos', 'hambre')"
   ]
  },
  {
   "cell_type": "markdown",
   "metadata": {},
   "source": [
    "# Argumentos de palabra clave "
   ]
  },
  {
   "cell_type": "markdown",
   "metadata": {},
   "source": [
    "### Para usarlo, es necesario conocer algunas reglas:\n",
    "\n",
    "- Un argumento de palabra clave consta de tres elementos: una palabra clave se identifica el argumento (end aquí); un signo de igual (=); y un valor asignado a ese argumento;\n",
    "- cualquier argumento de palabra clave debe colocarse después del último argumento posicional (esto es muy importante)\n",
    "\n",
    "En nuestro ejemplo, hemos utilizado el argumento de palabra clave end, y lo hemos configurado como cadena que contiene un espacio\n",
    "\n",
    "Como puedes ver, el argumento de palabra clave end determina los caracteres que la función print() envía a la salida una vez que llega al final de sus argumentos posicionales.\n",
    "\n",
    "El comportamiento predeterminado refleja la situación en la que el argumento de palabra clave end se usa implícitamente de la siguiente manera: end=\"\\n\"."
   ]
  },
  {
   "cell_type": "code",
   "execution_count": 21,
   "metadata": {},
   "outputs": [
    {
     "name": "stdout",
     "output_type": "stream",
     "text": [
      "hola señor\n",
      "\n",
      "Hola benito\n"
     ]
    }
   ],
   "source": [
    "print('hola señor')\n",
    "print()\n",
    "print('Hola benito')"
   ]
  },
  {
   "cell_type": "code",
   "execution_count": 22,
   "metadata": {},
   "outputs": [
    {
     "name": "stdout",
     "output_type": "stream",
     "text": [
      "Hola como estas vaca grande\n",
      "Hola soy tu padre\n"
     ]
    }
   ],
   "source": [
    "print('Hola como estas vaca grande', end='\\n')\n",
    "print('Hola soy tu padre')"
   ]
  },
  {
   "cell_type": "code",
   "execution_count": 23,
   "metadata": {},
   "outputs": [
    {
     "name": "stdout",
     "output_type": "stream",
     "text": [
      "hola soy tu miche con sal y limon\n"
     ]
    }
   ],
   "source": [
    "print('hola soy tu miche', end= \" \")\n",
    "print('con sal y limon')"
   ]
  },
  {
   "cell_type": "code",
   "execution_count": 24,
   "metadata": {},
   "outputs": [
    {
     "name": "stdout",
     "output_type": "stream",
     "text": [
      "Hola mundo*estoy aqui\n"
     ]
    }
   ],
   "source": [
    "print('Hola mundo', end='*')\n",
    "print('estoy aqui')"
   ]
  },
  {
   "cell_type": "code",
   "execution_count": 26,
   "metadata": {},
   "outputs": [
    {
     "name": "stdout",
     "output_type": "stream",
     "text": [
      "Hola-como estas-America-campeon\n"
     ]
    }
   ],
   "source": [
    "# palabra clave sep \n",
    "print('Hola', 'como estas', 'America', 'campeon', sep='-')"
   ]
  },
  {
   "cell_type": "code",
   "execution_count": 28,
   "metadata": {},
   "outputs": [
    {
     "name": "stdout",
     "output_type": "stream",
     "text": [
      "Hola-como estas-America-campeon**Soyla/vaca/del corral\n",
      "Tengo arta hambre \n"
     ]
    }
   ],
   "source": [
    "print('Hola', 'como estas', 'America', 'campeon', sep='-', end='**')\n",
    "print('Soyla', 'vaca', 'del corral', sep='/')\n",
    "print(\"Tengo arta hambre \")"
   ]
  },
  {
   "cell_type": "markdown",
   "metadata": {},
   "source": [
    "# LAB la funcion print() y sus argumentos\n"
   ]
  },
  {
   "cell_type": "markdown",
   "metadata": {},
   "source": [
    "## Escenario"
   ]
  },
  {
   "cell_type": "markdown",
   "metadata": {},
   "source": [
    "Modifica la primera línea de código en el editor, usando las palabras claves reservadas sep y end, para que se obtenga la salida esperada. Emplea dos funciones print() en el editor.\n",
    "\n",
    "No cambies nada en la segunda invocación del print()."
   ]
  },
  {
   "cell_type": "code",
   "execution_count": 33,
   "metadata": {},
   "outputs": [
    {
     "name": "stdout",
     "output_type": "stream",
     "text": [
      "Programming Essentials in\n",
      "Python\n"
     ]
    }
   ],
   "source": [
    "\n",
    "print(\"Programming\",\"Essentials\",\"in\")\n",
    "print(\"Python\")\n"
   ]
  },
  {
   "cell_type": "markdown",
   "metadata": {},
   "source": [
    "## Salida de espera"
   ]
  },
  {
   "cell_type": "code",
   "execution_count": 35,
   "metadata": {},
   "outputs": [
    {
     "name": "stdout",
     "output_type": "stream",
     "text": [
      "Programming***Essentials***in...Python\n"
     ]
    }
   ],
   "source": [
    "#programming*** Essentials***in...Python\n",
    "\n",
    "print(\"Programming\",\"Essentials\",\"in\", sep='***', end='...')\n",
    "print(\"Python\")\n",
    "\n"
   ]
  }
 ],
 "metadata": {
  "kernelspec": {
   "display_name": "Python 3",
   "language": "python",
   "name": "python3"
  },
  "language_info": {
   "codemirror_mode": {
    "name": "ipython",
    "version": 3
   },
   "file_extension": ".py",
   "mimetype": "text/x-python",
   "name": "python",
   "nbconvert_exporter": "python",
   "pygments_lexer": "ipython3",
   "version": "3.12.3"
  }
 },
 "nbformat": 4,
 "nbformat_minor": 2
}
