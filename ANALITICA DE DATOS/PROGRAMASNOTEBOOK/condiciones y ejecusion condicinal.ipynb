{
 "cells": [
  {
   "cell_type": "markdown",
   "metadata": {},
   "source": [
    "# Condiciones y ejecusion condicional"
   ]
  },
  {
   "cell_type": "markdown",
   "metadata": {},
   "source": [
    "## Ejemplo 1"
   ]
  },
  {
   "cell_type": "code",
   "execution_count": 8,
   "metadata": {},
   "outputs": [
    {
     "name": "stdout",
     "output_type": "stream",
     "text": [
      "El numero mayor es 15\n"
     ]
    }
   ],
   "source": [
    "# se leen dos numeros \n",
    "\n",
    "\n",
    "numero1 = int(input(\"ingresa elprimer numero:\"))\n",
    "numero2 = int(input(\"ingresa el segundo numero: \"))\n",
    "\n",
    "\n",
    "# Elejir el numero mas grande \n",
    "if numero1 >numero2:\n",
    "    numero_mayor =numero1\n",
    "    print(f'El numero mayor es {numero_mayor}')\n",
    "\n",
    "else:\n",
    "    numero_mayor =numero2\n",
    "print(f'El numero mayor es {numero_mayor}')\n",
    "\n"
   ]
  },
  {
   "cell_type": "markdown",
   "metadata": {},
   "source": [
    "## Ejemplo2\n",
    "\n",
    "Encontrar el numero mas grande de tres numero"
   ]
  },
  {
   "cell_type": "code",
   "execution_count": 12,
   "metadata": {},
   "outputs": [],
   "source": [
    "# solicitar tres numero enteros \n",
    "n1 = int(input(\"ingresa elprimer numero:\"))\n",
    "n2 = int(input(\"ingresa el segundo numero:\"))\n",
    "n3 = int(input(\"ingresa el tercero numero:\"))\n",
    "\n",
    "numero_mayor =n1\n",
    "if n2> numero_mayor:\n",
    "    numero_mayor =n2\n",
    "elif n3>numero_mayor:\n",
    "    numero_mayor =n3\n",
    "    print(f'El numero mayor es;{numero_mayor}')"
   ]
  },
  {
   "cell_type": "code",
   "execution_count": 16,
   "metadata": {},
   "outputs": [],
   "source": [
    "# solicitar tres numero enteros \n",
    "n1 = int(input(\"ingresa elprimer numero:\"))\n",
    "n2 = int(input(\"ingresa el segundo numero:\"))\n",
    "n3 = int(input(\"ingresa el tercero numero:\"))\n",
    "\n",
    "\n",
    "numero_mayor =n1\n",
    "if n1>n2 and n1>n3:\n",
    "    numero_mayor =n1\n",
    "elif n2>n1 and n2>n3:\n",
    "    numero_mayor =n2\n",
    "else:\n",
    "    numero_mayor =n3\n",
    "    print(f'El numero mayor es;{numero_mayor}')\n",
    "    "
   ]
  },
  {
   "cell_type": "code",
   "execution_count": 15,
   "metadata": {},
   "outputs": [
    {
     "name": "stdout",
     "output_type": "stream",
     "text": [
      "El numero mayor es;35\n"
     ]
    }
   ],
   "source": [
    "# solicitar tres numero enteros \n",
    "n1 = int(input(\"ingresa elprimer numero:\"))\n",
    "n2 = int(input(\"ingresa el segundo numero:\"))\n",
    "n3 = int(input(\"ingresa el tercero numero:\"))\n",
    "\n",
    "\n",
    "numero_mayor =n1 \n",
    "if n2> numero_mayor:\n",
    "    numero_mayor =n2\n",
    "if n3> numero_mayor:\n",
    "    numero_mayor =n3\n",
    "\n",
    "    print(f'El numero mayor es;{numero_mayor}')\n"
   ]
  },
  {
   "cell_type": "markdown",
   "metadata": {},
   "source": [
    "# LAB   Operadores de comparación y ejecución condicional\n",
    "\n",
    "Espatifilo, más comúnmente conocida como la planta de Cuna de Moisés o flor de la paz, es una de las plantas para interiores más populares que filtra las toxinas dañinas del aire. Algunas de las toxinas que neutraliza incluyen benceno, formaldehído y amoníaco.\n",
    "\n",
    "Imagina que tu programa de computadora ama estas plantas. Cada vez que recibe una entrada en forma de la palabra Espatifilo, grite involuntariamente a la consola la siguiente cadena: \"¡Espatifilo es la mejor planta de todas!\"\n",
    "\n",
    "Escribe un programa que utilice el concepto de ejecución condicional, tome una cadena como entrada y que:\n",
    "\n",
    "imprima el enunciado \"Si - ¡El Espatifilo! es la mejor planta de todos los tiempos!\" en la pantalla si la cadena ingresada es \"ESPATIFILIO\" (mayúsculas)\n",
    "imprima \"No, ¡quiero un gran Espatifilo!\" si la cadena ingresada es \"espatifilo\" (minúsculas)\n",
    "imprima \"¡Espatifilo!, ¡No [entrada]!\" de lo contrario. Nota: [entrada] es la cadena que se toma como entrada.\n",
    "Prueba tu código con los datos que te proporcionamos. ¡Y hazte de un Espatifilo también!"
   ]
  },
  {
   "cell_type": "code",
   "execution_count": 18,
   "metadata": {},
   "outputs": [
    {
     "name": "stdout",
     "output_type": "stream",
     "text": [
      "¡Espatifilo!, ¡No espati!\n"
     ]
    }
   ],
   "source": [
    "# solicitar la palbra \n",
    "entrada = input(\"Ingresa la palabra: \")\n",
    "\n",
    "if entrada == \"ESPATIFILIO\":\n",
    "    mensaje =\"Si - ¡El Espatifilo! es la mejor planta de todos los tiempos!\"\n",
    "elif entrada == \"espatifilo\":\n",
    "    mensaje =\"No, ¡quiero un gran Espatifilo!\"\n",
    "else:\n",
    "    mensaje = f\"¡Espatifilo!, ¡No {entrada}!\"\n",
    "\n",
    "print(mensaje)"
   ]
  },
  {
   "cell_type": "markdown",
   "metadata": {},
   "source": [
    "# LAB   Fundamentos de la sentencia if-else\n",
    "\n",
    "Érase una vez una tierra de leche y miel - habitada por gente feliz y próspera. La gente pagaba impuestos, por supuesto - su felicidad tenía límites. El impuesto más importante, denominado Impuesto Personal de Ingresos (IPI, para abreviar) tenía que pagarse una vez al año y se evaluó utilizando la siguiente regla:\n",
    "\n",
    "si el ingreso del ciudadano no era superior a 85,528 pesos, el impuesto era igual al 18% del ingreso menos 556 pesos y 2 centavos (esta fue la llamada exención fiscal).\n",
    "si el ingreso era superior a esta cantidad, el impuesto era igual a 14,839 pesos y 2 centavos, más el 32% del excedente sobre 85,528 pesos.\n",
    "Tu tarea es escribir una calculadora de impuestos.\n",
    "\n",
    "Debe aceptar un valor de punto flotante: el ingreso.\n",
    "A continuación, debe imprimir el impuesto calculado, redondeado a pesos totales. Hay una función llamada round() que hará el redondeo por ti - la encontrarás en el código de esqueleto del editor.\n",
    "Nota: este país feliz nunca devuelve dinero a sus ciudadanos. Si el impuesto calculado es menor que cero, solo significa que no hay impuesto (el impuesto es igual a cero). Ten esto en cuenta durante tus cálculos.\n",
    "\n",
    "Observa el código en el editor - solo lee un valor de entrada y genera un resultado, por lo que debes completarlo con algunos cálculos inteligentes."
   ]
  },
  {
   "cell_type": "code",
   "execution_count": null,
   "metadata": {},
   "outputs": [],
   "source": [
    "ingreso = float(input(\"Ingresa el ingreso: \"))\n",
    "\n",
    "if ingreso <= 85528:\n",
    "    impuesto = round(0.18 * ingreso - 556.02)\n",
    "else:\n",
    "    impuesto = round(14839.02 + 0.32 * (ingreso - 85528))\n",
    "\n",
    "if impuesto < 0:\n",
    "    impuesto = 0\n",
    "\n",
    "print(f\"Impuesto: {impuesto} pesos\")"
   ]
  }
 ],
 "metadata": {
  "kernelspec": {
   "display_name": "Python 3",
   "language": "python",
   "name": "python3"
  },
  "language_info": {
   "codemirror_mode": {
    "name": "ipython",
    "version": 3
   },
   "file_extension": ".py",
   "mimetype": "text/x-python",
   "name": "python",
   "nbconvert_exporter": "python",
   "pygments_lexer": "ipython3",
   "version": "3.12.3"
  }
 },
 "nbformat": 4,
 "nbformat_minor": 2
}
