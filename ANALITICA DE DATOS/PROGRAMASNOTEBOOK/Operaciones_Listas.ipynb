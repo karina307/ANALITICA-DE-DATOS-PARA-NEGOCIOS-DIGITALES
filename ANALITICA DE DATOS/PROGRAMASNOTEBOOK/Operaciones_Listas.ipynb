{
 "cells": [
  {
   "cell_type": "markdown",
   "metadata": {},
   "source": [
    "La instruccion del  descrita anteriormente puede eliminar mas de un elemento de la lista a la vez  - tambien puede eliminar "
   ]
  },
  {
   "cell_type": "code",
   "execution_count": 2,
   "metadata": {},
   "outputs": [
    {
     "name": "stdout",
     "output_type": "stream",
     "text": [
      "[10, 4, 2]\n"
     ]
    }
   ],
   "source": [
    "lista =[10,8,6,4,2]\n",
    "del lista[1: 3]\n",
    "print(lista)"
   ]
  },
  {
   "cell_type": "markdown",
   "metadata": {},
   "source": [
    "## Eliminar todo el contenido de la lista slicing "
   ]
  },
  {
   "cell_type": "code",
   "execution_count": 3,
   "metadata": {},
   "outputs": [
    {
     "name": "stdout",
     "output_type": "stream",
     "text": [
      "[]\n"
     ]
    }
   ],
   "source": [
    "lista=[10,8,6,4,2]\n",
    "#Borrar toda la lista \n",
    "del lista[:]\n",
    "print(lista)"
   ]
  },
  {
   "cell_type": "markdown",
   "metadata": {},
   "source": [
    "Al eliminar la rebanada del código, su significado cambia dramáticamente.\n",
    "\n",
    "Echa un vistazo:"
   ]
  },
  {
   "cell_type": "code",
   "execution_count": null,
   "metadata": {},
   "outputs": [],
   "source": [
    "lista =[10,8,6,4,2]\n"
   ]
  },
  {
   "cell_type": "markdown",
   "metadata": {},
   "source": [
    "## Los operadores in y not in\n",
    "\n",
    "Python ofrece dos operadores muy poderosos, capaces de revisar la lista para verificar si un valor específico está almacenado dentro de la lista o no.\n",
    "\n",
    "Estos operadores son:\n",
    "\n",
    "``` python\n",
    "elem in my_list\n",
    "elem not in my_list\n",
    "```\n",
    "\n",
    "El primero de ellos (in) verifica si un elemento dado (el argumento izquierdo) está actualmente almacenado en algún lugar dentro de la lista (el argumento derecho) - el operador devuelve True en este caso.\n",
    "\n",
    "El segundo (not in) comprueba si un elemento dado (el argumento izquierdo) está ausente en una lista - el operador devuelve True en este caso.\n",
    "\n",
    "Observa el código en el editor. El fragmento muestra ambos operadores en acción. ¿Puedes adivinar su output? Ejecuta el programa para comprobar si tenías razón."
   ]
  },
  {
   "cell_type": "code",
   "execution_count": 5,
   "metadata": {},
   "outputs": [
    {
     "name": "stdout",
     "output_type": "stream",
     "text": [
      "True\n",
      "False\n",
      "True\n"
     ]
    }
   ],
   "source": [
    "lista=[0,3,12,8,2]\n",
    "print(3 in lista)\n",
    "print(10 in  lista)\n",
    "print(10 not in lista)"
   ]
  },
  {
   "cell_type": "markdown",
   "metadata": {},
   "source": [
    "## LAB   Operaciones con listas: conceptos básicos\n",
    "\n",
    "Escenario\n",
    "Imagina una lista - no muy larga ni muy complicada, solo una lista simple que contiene algunos números enteros. Algunos de estos números pueden estar repetidos, y esta es la clave. No queremos ninguna repetición. Queremos que sean eliminados.\n",
    "\n",
    "Tu tarea es escribir un programa que elimine todas las repeticiones de números de la lista. El objetivo es tener una lista en la que todos los números aparezcan no más de una vez.\n",
    "\n",
    "Nota: Asume que la lista original está ya dentro del código - no tienes que ingresarla desde el teclado. Por supuesto, puedes mejorar el código y agregar una parte que pueda llevar a cabo una conversación con el usuario y obtener todos los datos.\n",
    "\n",
    "Sugerencia: Te recomendamos que crees una nueva lista como área de trabajo temporal - no necesitas actualizar la lista actual.\n",
    "\n",
    "No hemos proporcionado datos de prueba, ya que sería demasiado fácil. Puedes usar nuestro esqueleto en su lugar."
   ]
  },
  {
   "cell_type": "code",
   "execution_count": 8,
   "metadata": {},
   "outputs": [
    {
     "name": "stdout",
     "output_type": "stream",
     "text": [
      "La lista con elementos únicos:\n",
      "[1, 2, 4, 6, 9]\n"
     ]
    }
   ],
   "source": [
    "my_list = [1, 2, 4, 4, 1, 4, 2, 6, 2, 9]\n",
    "N_lista = []\n",
    "for num in my_list:\n",
    "    if num not in N_lista and num !=0:\n",
    "        N_lista.append(num)\n",
    "#\n",
    "print(\"La lista con elementos únicos:\")\n",
    "del my_list[:]\n",
    "my_list = N_lista[:]\n",
    "print(N_lista)"
   ]
  },
  {
   "cell_type": "code",
   "execution_count": 12,
   "metadata": {},
   "outputs": [],
   "source": [
    "def Elimnar_repetidos(lista):\n",
    "    N_lista = []\n",
    "    for num in my_list:\n",
    "      if num not in N_lista and num !=0:\n",
    "        N_lista.append(num)\n",
    "    return N_lista\n",
    "    \n"
   ]
  },
  {
   "cell_type": "code",
   "execution_count": 13,
   "metadata": {},
   "outputs": [
    {
     "name": "stdout",
     "output_type": "stream",
     "text": [
      "[1, 2, 4, 6, 9]\n"
     ]
    }
   ],
   "source": [
    "my_list = [1, 2, 4, 4, 1, 4, 2, 6, 2, 9]\n",
    "lista =Elimnar_repetidos(my_list)\n",
    "print(lista)\n"
   ]
  },
  {
   "cell_type": "markdown",
   "metadata": {},
   "source": [
    "# Funciones Map y Filter\n",
    "\n",
    "## Map\n",
    "`map` es una función que nos ayuda a realizar este procedimiento muy fácilmente. Vamos a ver cómo funciona."
   ]
  },
  {
   "cell_type": "code",
   "execution_count": 18,
   "metadata": {},
   "outputs": [],
   "source": [
    "numero=[1,2,3,4,5,6,7,8,9]\n"
   ]
  },
  {
   "cell_type": "markdown",
   "metadata": {},
   "source": [
    "Esto es una simple `lista` con  `ints` dentro. Ahora, digamos que queremos multiplicar cada uno de los elementos de esta lista por 2. Una manera horrible, lenta e impráctica de hacer esto sería lo siguiente:"
   ]
  },
  {
   "cell_type": "code",
   "execution_count": 21,
   "metadata": {},
   "outputs": [
    {
     "data": {
      "text/plain": [
       "[2, 4, 6, 8, 10, 12, 14, 16, 18]"
      ]
     },
     "execution_count": 21,
     "metadata": {},
     "output_type": "execute_result"
    }
   ],
   "source": [
    "numeros_por_dos = [\n",
    "    numero[0]*2,\n",
    "    numero[1]*2,\n",
    "    numero[2]*2,\n",
    "    numero[3]*2,\n",
    "    numero[4]*2,\n",
    "    numero[5]*2,\n",
    "    numero[6]*2,\n",
    "    numero[7]*2,\n",
    "    numero[8]*2,\n",
    "]\n",
    "\n",
    "numeros_por_dos"
   ]
  },
  {
   "cell_type": "markdown",
   "metadata": {},
   "source": [
    "¿Por qué es tan horrible esta solución?\n",
    "\n",
    "Para empezar, necesitamos escribir muchísimo código (y repetido). Ya aprendimos que una de las reglas de la programación es: si vas a repetir el mismo código múltiples veces, lo mejor sería encapsular ese código en una función.\n",
    "Y en segunda, ¿qué pasaría si nuestra `lista` `numeros` cambia? Por ejemplo, podríamos agregar elementos o eliminar elementos. En ese caso, el código que estamos utilizando para crear `numeros_por_dos` podría fallar. Si `numeros` tiene menos elementos, entonces `numeros_por_dos` intentaría acceder a un índice que ya no existe y nos lanzaría un error. Si `numeros` tiene ahora más elementos, entonces `numeros_por_dos` va a estar incompleto."
   ]
  },
  {
   "cell_type": "code",
   "execution_count": 22,
   "metadata": {},
   "outputs": [],
   "source": [
    "def multiplicar_por_dos(numero):\n",
    "    resultado = numero * 2\n",
    "    return resultado"
   ]
  },
  {
   "cell_type": "code",
   "execution_count": 24,
   "metadata": {},
   "outputs": [
    {
     "data": {
      "text/plain": [
       "20"
      ]
     },
     "execution_count": 24,
     "metadata": {},
     "output_type": "execute_result"
    }
   ],
   "source": [
    "multiplicasion = multiplicar_por_dos(10)\n",
    "multiplicasion"
   ]
  },
  {
   "cell_type": "markdown",
   "metadata": {},
   "source": [
    "Ahora, lo que hace map es lo siguiente:\n",
    "\n",
    "1. Recibe una función que queremos aplicar a una lista.\n",
    "2. Recibe una lista.\n",
    "3. Aplica la función a la lista elemento por elemento y regresa una nueva lista que contiene los elementos de la lista anterior transformados."
   ]
  },
  {
   "cell_type": "code",
   "execution_count": 26,
   "metadata": {},
   "outputs": [
    {
     "data": {
      "text/plain": [
       "[2, 4, 6, 8, 10, 12, 14, 16, 18]"
      ]
     },
     "execution_count": 26,
     "metadata": {},
     "output_type": "execute_result"
    }
   ],
   "source": [
    "list(map(multiplicar_por_dos, numero))"
   ]
  },
  {
   "cell_type": "code",
   "execution_count": 29,
   "metadata": {},
   "outputs": [
    {
     "data": {
      "text/plain": [
       "[2, 4, 6, 8, 10, 12, 14, 16, 18]"
      ]
     },
     "execution_count": 29,
     "metadata": {},
     "output_type": "execute_result"
    }
   ],
   "source": [
    "lista2 = list(map(multiplicar_por_dos, numero ))\n",
    "lista2"
   ]
  },
  {
   "cell_type": "code",
   "execution_count": 30,
   "metadata": {},
   "outputs": [
    {
     "data": {
      "text/plain": [
       "[1, 2, 3, 4, 5, 6, 7, 8, 9, 1, 2, 3, 4, 5, 6, 7, 8, 9]"
      ]
     },
     "execution_count": 30,
     "metadata": {},
     "output_type": "execute_result"
    }
   ],
   "source": [
    "numero2 = numero * 2\n",
    "numero2"
   ]
  },
  {
   "cell_type": "code",
   "execution_count": 31,
   "metadata": {},
   "outputs": [
    {
     "data": {
      "text/plain": [
       "[2, 4, 6, 8, 10, 12, 14, 16, 18, 2, 4, 6, 8, 10, 12, 14, 16, 18]"
      ]
     },
     "execution_count": 31,
     "metadata": {},
     "output_type": "execute_result"
    }
   ],
   "source": [
    "list(map(multiplicar_por_dos, numero2))"
   ]
  },
  {
   "cell_type": "code",
   "execution_count": null,
   "metadata": {},
   "outputs": [],
   "source": [
    "numeros = [6,78,3,89,5,63,42,8,76,1,245,9,877,465,34,77,80]"
   ]
  },
  {
   "cell_type": "code",
   "execution_count": 32,
   "metadata": {},
   "outputs": [],
   "source": [
    "def es_numero_par(numero):\n",
    "    if numero%2 == 0:\n",
    "        return numero\n",
    "    else:\n",
    "        return 0"
   ]
  },
  {
   "cell_type": "code",
   "execution_count": 33,
   "metadata": {},
   "outputs": [
    {
     "data": {
      "text/plain": [
       "[6, 78, 0, 0, 0, 0, 42, 8, 76, 0, 0, 0, 0, 0, 34, 0, 80]"
      ]
     },
     "execution_count": 33,
     "metadata": {},
     "output_type": "execute_result"
    }
   ],
   "source": [
    "numeros = [6,78,3,89,5,63,42,8,76,1,245,9,877,465,34,77,80]\n",
    "list(map(es_numero_par, numeros))"
   ]
  },
  {
   "cell_type": "markdown",
   "metadata": {},
   "source": [
    "También podemos transformar de un tipo de datos a Otro. Por ejemplo, mira esta funci6n\n",
    "que toma un nümero y Io regresa en forma de string con el signo de dinero anadido y la\n",
    "unidad MXN:"
   ]
  },
  {
   "cell_type": "code",
   "execution_count": 35,
   "metadata": {},
   "outputs": [],
   "source": [
    "def formatear_numero(numero):\n",
    "    return f'${numero} MXN'"
   ]
  },
  {
   "cell_type": "code",
   "execution_count": 37,
   "metadata": {},
   "outputs": [
    {
     "data": {
      "text/plain": [
       "['$6 MXN',\n",
       " '$78 MXN',\n",
       " '$3 MXN',\n",
       " '$89 MXN',\n",
       " '$5 MXN',\n",
       " '$63 MXN',\n",
       " '$42 MXN',\n",
       " '$8 MXN',\n",
       " '$76 MXN',\n",
       " '$1 MXN',\n",
       " '$245 MXN',\n",
       " '$9 MXN',\n",
       " '$877 MXN',\n",
       " '$465 MXN',\n",
       " '$34 MXN',\n",
       " '$77 MXN',\n",
       " '$80 MXN']"
      ]
     },
     "execution_count": 37,
     "metadata": {},
     "output_type": "execute_result"
    }
   ],
   "source": [
    "listita = [6,78,3,89,5,63,42,8,76,1,245,9,877,465,34,77,80]\n",
    "list(map(formatear_numero, listita))"
   ]
  },
  {
   "cell_type": "code",
   "execution_count": null,
   "metadata": {},
   "outputs": [],
   "source": [
    "listita = [6,78,3,89,5,63,42,8,76,1,245,9,877,465,34,77,80]\n",
    "listita2 =list(map(formatear_numero, listita))\n",
    "print(listita2)\n",
    "print(type(listita2))"
   ]
  },
  {
   "cell_type": "markdown",
   "metadata": {},
   "source": [
    "## Filter\n",
    "\n",
    "`Filter` El nombre de la función filter explica exactamente lo que la función hace: filtrar. ¿Filtrar qué? Pues elementos en una lista. Veamos cómo lo hace."
   ]
  }
 ],
 "metadata": {
  "kernelspec": {
   "display_name": "Python 3",
   "language": "python",
   "name": "python3"
  },
  "language_info": {
   "codemirror_mode": {
    "name": "ipython",
    "version": 3
   },
   "file_extension": ".py",
   "mimetype": "text/x-python",
   "name": "python",
   "nbconvert_exporter": "python",
   "pygments_lexer": "ipython3",
   "version": "3.12.3"
  }
 },
 "nbformat": 4,
 "nbformat_minor": 2
}
